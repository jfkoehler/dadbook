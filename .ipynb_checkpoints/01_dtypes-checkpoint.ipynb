{
 "cells": [
  {
   "cell_type": "markdown",
   "metadata": {},
   "source": [
    "# Intro to Python\n",
    "\n",
    "To use the code cells, we hold down the `shift` and `enter` key to execute code.  Right away, we can use Python as a calculator."
   ]
  },
  {
   "cell_type": "code",
   "execution_count": 1,
   "metadata": {},
   "outputs": [
    {
     "data": {
      "text/plain": [
       "7"
      ]
     },
     "execution_count": 1,
     "metadata": {},
     "output_type": "execute_result"
    }
   ],
   "source": [
    "#addition (remember to hit shift + enter)\n",
    "2 + 5"
   ]
  },
  {
   "cell_type": "code",
   "execution_count": 2,
   "metadata": {},
   "outputs": [
    {
     "data": {
      "text/plain": [
       "1"
      ]
     },
     "execution_count": 2,
     "metadata": {},
     "output_type": "execute_result"
    }
   ],
   "source": [
    "#subtraction\n",
    "5 - 4"
   ]
  },
  {
   "cell_type": "code",
   "execution_count": 3,
   "metadata": {},
   "outputs": [
    {
     "data": {
      "text/plain": [
       "20"
      ]
     },
     "execution_count": 3,
     "metadata": {},
     "output_type": "execute_result"
    }
   ],
   "source": [
    "#multiplication\n",
    "4 * 5"
   ]
  },
  {
   "cell_type": "code",
   "execution_count": 4,
   "metadata": {},
   "outputs": [
    {
     "data": {
      "text/plain": [
       "2.0"
      ]
     },
     "execution_count": 4,
     "metadata": {},
     "output_type": "execute_result"
    }
   ],
   "source": [
    "#division\n",
    "10/5"
   ]
  },
  {
   "cell_type": "code",
   "execution_count": 5,
   "metadata": {},
   "outputs": [
    {
     "data": {
      "text/plain": [
       "16"
      ]
     },
     "execution_count": 5,
     "metadata": {},
     "output_type": "execute_result"
    }
   ],
   "source": [
    "#exponents\n",
    "4 ** 2"
   ]
  },
  {
   "cell_type": "markdown",
   "metadata": {},
   "source": [
    "### Data Types\n",
    "\n",
    "There are four main *datatypes* we will be concerned with.  To begin, we will use numbers, words, and the results of comparisons as the main defining characteristics.  Additionally, we will differentiate between two kinds of numbers, with and without decimals.  Specifically:\n",
    "\n",
    "- **STRINGS**: treated like text; words -- we tell Python we are using a string by enclosing something in either single or double quotes."
   ]
  },
  {
   "cell_type": "code",
   "execution_count": 7,
   "metadata": {},
   "outputs": [
    {
     "data": {
      "text/plain": [
       "'this is a string; it might have a number in it 8'"
      ]
     },
     "execution_count": 7,
     "metadata": {},
     "output_type": "execute_result"
    }
   ],
   "source": [
    "'this is a string; it might have a number in it 8'"
   ]
  },
  {
   "cell_type": "code",
   "execution_count": 9,
   "metadata": {},
   "outputs": [
    {
     "data": {
      "text/plain": [
       "str"
      ]
     },
     "execution_count": 9,
     "metadata": {},
     "output_type": "execute_result"
    }
   ],
   "source": [
    "#shows us what kind of a \"thing\" we are working with\n",
    "type('this is a string; it might have a number in it 8')"
   ]
  },
  {
   "cell_type": "markdown",
   "metadata": {},
   "source": [
    "- **INT**: Whole numbers.  We type a whole number without quotes around it and have an int."
   ]
  },
  {
   "cell_type": "code",
   "execution_count": 10,
   "metadata": {},
   "outputs": [
    {
     "data": {
      "text/plain": [
       "8"
      ]
     },
     "execution_count": 10,
     "metadata": {},
     "output_type": "execute_result"
    }
   ],
   "source": [
    "8"
   ]
  },
  {
   "cell_type": "code",
   "execution_count": 11,
   "metadata": {},
   "outputs": [
    {
     "data": {
      "text/plain": [
       "int"
      ]
     },
     "execution_count": 11,
     "metadata": {},
     "output_type": "execute_result"
    }
   ],
   "source": [
    "type(8)"
   ]
  },
  {
   "cell_type": "markdown",
   "metadata": {},
   "source": [
    "- **FLOAT**: Decimal numbers.  Use the period for a decimal and still no quotes."
   ]
  },
  {
   "cell_type": "code",
   "execution_count": 12,
   "metadata": {},
   "outputs": [
    {
     "data": {
      "text/plain": [
       "12.3"
      ]
     },
     "execution_count": 12,
     "metadata": {},
     "output_type": "execute_result"
    }
   ],
   "source": [
    "12.3"
   ]
  },
  {
   "cell_type": "code",
   "execution_count": 13,
   "metadata": {},
   "outputs": [
    {
     "data": {
      "text/plain": [
       "float"
      ]
     },
     "execution_count": 13,
     "metadata": {},
     "output_type": "execute_result"
    }
   ],
   "source": [
    "type(12.3)"
   ]
  },
  {
   "cell_type": "markdown",
   "metadata": {},
   "source": [
    "- **BOOL**: determines the truthiness of something -- True or False."
   ]
  },
  {
   "cell_type": "code",
   "execution_count": 16,
   "metadata": {},
   "outputs": [
    {
     "data": {
      "text/plain": [
       "True"
      ]
     },
     "execution_count": 16,
     "metadata": {},
     "output_type": "execute_result"
    }
   ],
   "source": [
    "True"
   ]
  },
  {
   "cell_type": "code",
   "execution_count": 17,
   "metadata": {},
   "outputs": [
    {
     "data": {
      "text/plain": [
       "bool"
      ]
     },
     "execution_count": 17,
     "metadata": {},
     "output_type": "execute_result"
    }
   ],
   "source": [
    "type(False)"
   ]
  },
  {
   "cell_type": "markdown",
   "metadata": {},
   "source": [
    "### Comparisons\n",
    "\n",
    "We can test whether or not things are the same, one thing is greater than another, or greater than or equal to (and less than as well).\n",
    "\n",
    "- `==`: are two things equal\n",
    "- `!=`: are two things not equal\n",
    "- `>`: greater than\n",
    "- `<`: less than\n",
    "- `>=`: greater than or equal\n",
    "- `<=`: less than or equal"
   ]
  },
  {
   "cell_type": "code",
   "execution_count": 19,
   "metadata": {},
   "outputs": [
    {
     "data": {
      "text/plain": [
       "True"
      ]
     },
     "execution_count": 19,
     "metadata": {},
     "output_type": "execute_result"
    }
   ],
   "source": [
    "4 == 4.0"
   ]
  },
  {
   "cell_type": "code",
   "execution_count": 20,
   "metadata": {},
   "outputs": [
    {
     "data": {
      "text/plain": [
       "True"
      ]
     },
     "execution_count": 20,
     "metadata": {},
     "output_type": "execute_result"
    }
   ],
   "source": [
    "4 < 8"
   ]
  },
  {
   "cell_type": "code",
   "execution_count": 21,
   "metadata": {},
   "outputs": [
    {
     "data": {
      "text/plain": [
       "True"
      ]
     },
     "execution_count": 21,
     "metadata": {},
     "output_type": "execute_result"
    }
   ],
   "source": [
    "5 != 'steve'"
   ]
  },
  {
   "cell_type": "markdown",
   "metadata": {},
   "source": [
    "### PROBLEMS"
   ]
  },
  {
   "cell_type": "markdown",
   "metadata": {},
   "source": [
    "The reason these seemingly boring things matter is that depending on the kind of object you are working with, different things will be allowed.  "
   ]
  },
  {
   "cell_type": "markdown",
   "metadata": {},
   "source": [
    "1. What happens when you add two strings?\n",
    "```python\n",
    "'drake' + 'six_nine'\n",
    "```\n",
    "2. What happens when you add a string and an integer?\n",
    "```python\n",
    "'drake' + 8\n",
    "```\n",
    "3. What happens when you add a number and a boolean?\n",
    "\n",
    "```python\n",
    "8.3 + True\n",
    "```"
   ]
  },
  {
   "cell_type": "code",
   "execution_count": null,
   "metadata": {},
   "outputs": [],
   "source": []
  },
  {
   "cell_type": "code",
   "execution_count": null,
   "metadata": {},
   "outputs": [],
   "source": []
  },
  {
   "cell_type": "code",
   "execution_count": null,
   "metadata": {},
   "outputs": [],
   "source": []
  },
  {
   "cell_type": "markdown",
   "metadata": {},
   "source": [
    "### Variables\n",
    "\n",
    "Typically we will store things in variables.  For example, the variable `age` and the variable `name` represent two different data types, stored in variables."
   ]
  },
  {
   "cell_type": "code",
   "execution_count": 2,
   "metadata": {},
   "outputs": [],
   "source": [
    "name = 'Hennessy'\n",
    "age = 14"
   ]
  },
  {
   "cell_type": "code",
   "execution_count": 3,
   "metadata": {},
   "outputs": [
    {
     "data": {
      "text/plain": [
       "str"
      ]
     },
     "execution_count": 3,
     "metadata": {},
     "output_type": "execute_result"
    }
   ],
   "source": [
    "type(name)"
   ]
  },
  {
   "cell_type": "code",
   "execution_count": 4,
   "metadata": {},
   "outputs": [
    {
     "data": {
      "text/plain": [
       "int"
      ]
     },
     "execution_count": 4,
     "metadata": {},
     "output_type": "execute_result"
    }
   ],
   "source": [
    "type(age)"
   ]
  },
  {
   "cell_type": "code",
   "execution_count": 5,
   "metadata": {},
   "outputs": [
    {
     "data": {
      "text/plain": [
       "29"
      ]
     },
     "execution_count": 5,
     "metadata": {},
     "output_type": "execute_result"
    }
   ],
   "source": [
    "age + 15"
   ]
  },
  {
   "cell_type": "code",
   "execution_count": 7,
   "metadata": {},
   "outputs": [
    {
     "data": {
      "text/plain": [
       "'Hennessy the dog'"
      ]
     },
     "execution_count": 7,
     "metadata": {},
     "output_type": "execute_result"
    }
   ],
   "source": [
    "name + ' the dog'"
   ]
  },
  {
   "cell_type": "markdown",
   "metadata": {},
   "source": [
    "Some rules apply for variable names.  We cannot start names with numbers, and we cannot have spaces in our variable names.  As another rule, we do not want to use any Python functions or objects as names for the variable either."
   ]
  },
  {
   "cell_type": "markdown",
   "metadata": {},
   "source": [
    "### String Methods"
   ]
  },
  {
   "cell_type": "markdown",
   "metadata": {},
   "source": [
    "The variable `in_my_feelings` below contains a verse from Drake's song *In My Feelings*.  It is a string, and with a longer string there are some methods we can use to manipulate the object.  To use these, the general pattern will be:\n",
    "\n",
    "```python\n",
    "variable.method()\n",
    "```\n",
    "\n"
   ]
  },
  {
   "cell_type": "code",
   "execution_count": 12,
   "metadata": {},
   "outputs": [],
   "source": [
    "in_my_feelings = '''Look, the new me is really still the real me\n",
    "I swear you gotta feel me before they try and kill me\n",
    "They gotta make some choices, they runnin' out of options\n",
    "'Cause I've been goin' off and they don't know when it's stoppin'\n",
    "And when you get to toppin', I see that you've been learnin'\n",
    "And when you get to shoppin', you spend it like you earned it\n",
    "And when you popped off on your ex he deserved it\n",
    "I thought you were the one from the jump that confirmed it\n",
    "TrapMoneyBenny\n",
    "I buy you Champagne but you love some Henny\n",
    "From the block like you Jenny\n",
    "I know you special, girl, 'cause I know too many\n",
    "'''"
   ]
  },
  {
   "cell_type": "code",
   "execution_count": 15,
   "metadata": {},
   "outputs": [
    {
     "name": "stdout",
     "output_type": "stream",
     "text": [
      "LOOK, THE NEW ME IS REALLY STILL THE REAL ME\n",
      "I SWEAR YOU GOTTA FEEL ME BEFORE THEY TRY AND KILL ME\n",
      "THEY GOTTA MAKE SOME CHOICES, THEY RUNNIN' OUT OF OPTIONS\n",
      "'CAUSE I'VE BEEN GOIN' OFF AND THEY DON'T KNOW WHEN IT'S STOPPIN'\n",
      "AND WHEN YOU GET TO TOPPIN', I SEE THAT YOU'VE BEEN LEARNIN'\n",
      "AND WHEN YOU GET TO SHOPPIN', YOU SPEND IT LIKE YOU EARNED IT\n",
      "AND WHEN YOU POPPED OFF ON YOUR EX HE DESERVED IT\n",
      "I THOUGHT YOU WERE THE ONE FROM THE JUMP THAT CONFIRMED IT\n",
      "TRAPMONEYBENNY\n",
      "I BUY YOU CHAMPAGNE BUT YOU LOVE SOME HENNY\n",
      "FROM THE BLOCK LIKE YOU JENNY\n",
      "I KNOW YOU SPECIAL, GIRL, 'CAUSE I KNOW TOO MANY\n",
      "\n"
     ]
    }
   ],
   "source": [
    "#make everything uppercase\n",
    "print(in_my_feelings.upper())"
   ]
  },
  {
   "cell_type": "code",
   "execution_count": 16,
   "metadata": {},
   "outputs": [
    {
     "name": "stdout",
     "output_type": "stream",
     "text": [
      "Look, the new me is really still the real me\n",
      "I swear you gotta feel me before they try and kill me\n",
      "They gotta make some choices, they runnin' out of options\n",
      "'Cause I've been goin' off and they don't know when it's stoppin'\n",
      "And when you get to toppin', I see that you've been learnin'\n",
      "And when you get to shoppin', you spend it like you earned it\n",
      "And when you popped off on your ex he deserved it\n",
      "I thought you were the one from the jump that confirmed it\n",
      "TrapMoneyBenny\n",
      "I buy you Champagne but you love some Henny\n",
      "From the block like you Jenny\n",
      "I know you special, boy, 'cause I know too many\n",
      "\n"
     ]
    }
   ],
   "source": [
    "#replace girl with boy\n",
    "print(in_my_feelings.replace('girl', 'boy'))"
   ]
  },
  {
   "cell_type": "code",
   "execution_count": 18,
   "metadata": {},
   "outputs": [
    {
     "name": "stdout",
     "output_type": "stream",
     "text": [
      "480\n"
     ]
    }
   ],
   "source": [
    "print(in_my_feelings.find('Champagne'))"
   ]
  },
  {
   "cell_type": "markdown",
   "metadata": {},
   "source": [
    "### Slicing Strings\n",
    "\n",
    "The last function to find the word \"Champagne\" returned the number 480.  This is the location of the word in the string.  We can slice a string to limit it to a certain range; may take some getting used to that we start counting at zero rather than 1."
   ]
  },
  {
   "cell_type": "code",
   "execution_count": 19,
   "metadata": {},
   "outputs": [],
   "source": [
    "one_dance = '''That's why I need a one dance\n",
    "Got a Hennessy in my hand\n",
    "'''"
   ]
  },
  {
   "cell_type": "code",
   "execution_count": 21,
   "metadata": {},
   "outputs": [
    {
     "data": {
      "text/plain": [
       "24"
      ]
     },
     "execution_count": 21,
     "metadata": {},
     "output_type": "execute_result"
    }
   ],
   "source": [
    "one_dance.find('dance')"
   ]
  },
  {
   "cell_type": "code",
   "execution_count": 24,
   "metadata": {},
   "outputs": [
    {
     "data": {
      "text/plain": [
       "'dance'"
      ]
     },
     "execution_count": 24,
     "metadata": {},
     "output_type": "execute_result"
    }
   ],
   "source": [
    "#start at letter 24 and go until 29\n",
    "one_dance[24:29]"
   ]
  },
  {
   "cell_type": "markdown",
   "metadata": {},
   "source": [
    "### Problem: Drake\n",
    "\n",
    "<center>\n",
    "    <img src = https://cdn.vox-cdn.com/thumbor/7SKoV9-tOn9XQXZIwwrZoDKU96A=/0x0:3200x1800/1200x800/filters:focal(1344x644:1856x1156)/cdn.vox-cdn.com/uploads/chorus_image/image/60257237/drake.0.png width = 50%/>\n",
    "    </center>"
   ]
  },
  {
   "cell_type": "code",
   "execution_count": 37,
   "metadata": {},
   "outputs": [],
   "source": [
    "gods_plan = '''\n",
    "Yeah, they wishin' and wishin' and wishin' and wishin'\n",
    "They wishin' on me\n",
    "\n",
    "I been movin' calm, don't start no trouble with me\n",
    "Tryna keep it peaceful is a struggle for me\n",
    "Don't pull up at 6 AM to cuddle with me\n",
    "You know how I like it when you lovin' on me\n",
    "I don't wanna die for them to miss me\n",
    "Yes, I see the things that they wishin' on me\n",
    "Hope I got some brothers that outlive me\n",
    "They gon' tell the story, shit was different with me\n",
    "\n",
    "God's plan, God's plan\n",
    "I hold back, sometimes I won't (yeah)\n",
    "I feel good, sometimes I don't, ayy, don't\n",
    "I finessed down Weston Road, ayy, 'nessed\n",
    "Might go down a G.O.D., yeah, wait\n",
    "I go hard on Southside G, (yeah, wait)\n",
    "I make sure that north-side eat\n",
    "\n",
    "And still\n",
    "Bad things\n",
    "It's a lot of bad things\n",
    "That they wishin' and wishin' and wishin' and wishin'\n",
    "They wishin' on me\n",
    "Bad things\n",
    "It's a lot of bad things\n",
    "That they wishin' and wishin' and wishin' and wishin'\n",
    "They wishin' on me\n",
    "Yuh, ayy, ayy\n",
    "\n",
    "She said, \"Do you love me?\" I tell her, \"Only partly\"\n",
    "I only love my bed and my momma, I'm sorry\n",
    "Fifty Dub, I even got it tatted on me\n",
    "81, they'll bring the crashers to the party\n",
    "And you know me\n",
    "Turn the O2 into the O3, dog\n",
    "Without 40, Oli, there would be no me\n",
    "Imagine if I never met the broskies\n",
    "\n",
    "God's plan, God's plan\n",
    "I can't do this on my own, ayy, no, ayy\n",
    "Someone watchin' this shit close, yep, close\n",
    "I've been me since Scarlett Road, ayy, road, ayy\n",
    "Might go down as G.O.D., yeah, wait\n",
    "I go hard on Southside G, ayy, wait\n",
    "I make sure that north-side eat\n",
    "And still\n",
    "\n",
    "Bad things\n",
    "It's a lot of bad things\n",
    "That they wishin' and wishin' and wishin' and wishin'\n",
    "They wishin' on me\n",
    "Yeah, yeah\n",
    "Bad things\n",
    "It's a lot of bad things\n",
    "That they wishin' and wishin' and wishin' and wishin'\n",
    "They wishin' on me\n",
    "Yeah\n",
    "'''"
   ]
  },
  {
   "cell_type": "markdown",
   "metadata": {},
   "source": [
    "**PROBLEMS**\n",
    "\n",
    "Using the variable *God's Plan* above, please answer the following questions:\n",
    "\n",
    "1. How many characters in the string?  (**Hint**: look at its length!)\n",
    "2. Replace the word wishin with fishin.\n",
    "3. What happens if we use the `.split()` method on the string?\n",
    "4. Save the results of splitting the string to a variable called `tokens`.\n",
    "5. What kind of an object is `tokens`?  (**Hint**: use `type()`)"
   ]
  },
  {
   "cell_type": "code",
   "execution_count": null,
   "metadata": {},
   "outputs": [],
   "source": []
  },
  {
   "cell_type": "code",
   "execution_count": null,
   "metadata": {},
   "outputs": [],
   "source": []
  },
  {
   "cell_type": "code",
   "execution_count": null,
   "metadata": {},
   "outputs": [],
   "source": []
  },
  {
   "cell_type": "code",
   "execution_count": null,
   "metadata": {},
   "outputs": [],
   "source": []
  },
  {
   "cell_type": "code",
   "execution_count": null,
   "metadata": {},
   "outputs": [],
   "source": []
  },
  {
   "cell_type": "code",
   "execution_count": null,
   "metadata": {},
   "outputs": [],
   "source": []
  },
  {
   "cell_type": "code",
   "execution_count": null,
   "metadata": {},
   "outputs": [],
   "source": []
  },
  {
   "cell_type": "code",
   "execution_count": null,
   "metadata": {},
   "outputs": [],
   "source": []
  },
  {
   "cell_type": "code",
   "execution_count": null,
   "metadata": {},
   "outputs": [],
   "source": []
  }
 ],
 "metadata": {
  "kernelspec": {
   "display_name": "Python 3",
   "language": "python",
   "name": "python3"
  },
  "language_info": {
   "codemirror_mode": {
    "name": "ipython",
    "version": 3
   },
   "file_extension": ".py",
   "mimetype": "text/x-python",
   "name": "python",
   "nbconvert_exporter": "python",
   "pygments_lexer": "ipython3",
   "version": "3.7.4"
  }
 },
 "nbformat": 4,
 "nbformat_minor": 4
}
