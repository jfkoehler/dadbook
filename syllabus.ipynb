{
 "cells": [
  {
   "cell_type": "markdown",
   "metadata": {},
   "source": [
    "# Data  and Design with Python: LMTH 2080\n",
    "\n",
    "\n",
    "\n",
    "**INSTRUCTOR**: Jacob Frias Koehler, PhD\n",
    "\n",
    "**LOCATION**: 600 East 16th St\n",
    "\n",
    "**TIME**: Monday 12:10 - 2:50 pm\n",
    "\n",
    "**WEBSITE**: https://github.com/jfkoehler/data-and-design\n",
    "\n",
    "**SLACK CHANNEL**: https://join.slack.com/t/newschool-vcz2981/shared_invite/zt-h00glhaq-Zn4FUwudYBOnVH561Q2P9Q\n",
    "\n",
    "\n",
    "**Email**: koehlerj@newschool.edu\n",
    "\n",
    "\n",
    "This course is an introduction to the Python computing language through an exploration of contemporary uses of data and computing technology.  We will combine work on understanding the political developments with the human use of data and engage with actual implementation of code and data analysis.\n",
    "\n",
    "## Course Requirements\n",
    "\n",
    "Below are our course requirements and their contribution towards your final grade in the class.\n",
    "\n",
    "- participate in class discussions on readings and computing work (20 %)\n",
    "\n",
    "- contribute to slack each week (5 %)\n",
    "\n",
    "- complete weekly assignments  (60%)\n",
    "\n",
    "- complete final project (15%)\n",
    "\n",
    "\n",
    "\n",
    "-----\n",
    "\n",
    "### Resources\n",
    "\n",
    "\n",
    "\n",
    "\n",
    "The university provides many resources to help students achieve academic and artistic excellence.  These resources include:\n",
    "\n",
    "- The University (and associated) Libraries: http://library.newschool.edu\n",
    "- The University Learning Center: http://www.newschool.edu/learning-center \n",
    "- University Disabilities Service: www.newschool.edu/student-disability-services/   \n",
    "\n",
    "In keeping with the university’s policy of providing equal access for students with disabilities, any student with a disability who needs academic accommodations is welcome to meet with me privately. All conversations will be kept confidential. Students requesting any accommodations will also need to contact Student Disability Service (SDS). SDS will conduct an intake and, if appropriate, the Director will provide an academic accommodation notification letter for you to bring to me. At that point, I will review the letter with you and discuss these accommodations in relation to this course.\n",
    "\n",
    "\n"
   ]
  },
  {
   "cell_type": "markdown",
   "metadata": {},
   "source": [
    "### Learning Outcomes\n",
    "\n",
    "- Understand basic programming with the Python language\n",
    "- Use Python to explore and visualize data\n",
    "- Use Python to build web applications\n",
    "- Use Python to implement basic Machine Learning Algorithms\n",
    "- Use Python to implement basic Artificial Neural Networks"
   ]
  },
  {
   "cell_type": "markdown",
   "metadata": {},
   "source": [
    "### Attendance\n",
    "\n",
    "*“Absences may justify some grade reduction and a total of four absences mandate a reduction of one letter grade for the course. More than four absences mandate a failing grade for the course, unless there are extenuating circumstances, such as the following: \n",
    "an extended illness requiring hospitalization or visit to a physician (with documentation); a family emergency, e.g. serious illness (with written explanation); observance of a religious holiday.*\n",
    "\n",
    "*The attendance and lateness policies are enforced as of the first day of classes for all registered students. If registered during the first week of the add/drop period, the student is responsible for any missed assignments and coursework.*\n",
    "\n",
    "*For significant lateness, the instructor may consider the tardiness as an absence for the day. Students failing a course due to attendance should consult with an academic advisor to discuss options. Divisional and/or departmental/program policies serve as minimal guidelines, but policies may contain additional elements determined by the faculty member.”* "
   ]
  },
  {
   "cell_type": "markdown",
   "metadata": {},
   "source": [
    "### Student Course Ratings\n",
    "\n",
    "During the last two weeks of the semester, students are asked to provide feedback for each of their courses through an online survey. They cannot view grades until providing feedback or officially declining to do so. Course evaluations are a vital space where students can speak about the learning experience. It is an important process which provides valuable data about the successful delivery and support of a course or topic to both the faculty and administrators. Instructors rely on course rating surveys for feedback on the course and teaching methods, so they can understand what aspects of the class are most successful in teaching students, and what aspects might be improved or changed in future. Without this information, it can be difficult for an instructor to reflect upon and improve teaching methods and course design. In addition, program/department chairs and other administrators review course surveys. Instructions are available online at http://www.newschool.edu/provost/course-evaluations-student-instructions.pdf. "
   ]
  },
  {
   "cell_type": "markdown",
   "metadata": {},
   "source": [
    "### Schedule\n",
    "\n",
    "| Week | Topic | Activity | Assignment |\n",
    "| ----- | ----- | -------- | --------- |\n",
    "| 1 | Introduction to Python | Data Types, Collections, Control Flow | Code Problems |\n",
    "| 2 | Introduction to Pandas | EDA With Police Data | Chipotle and IMDB Data |\n",
    "| 3 | Plotting and  Visualization | Matplotlib and Seaborn | Plotting with Matplotlib |\n",
    "| 4 | Data Project | Mapping | Project Completion |\n",
    "| 5 | Intro to Machine Learning | Regression and Classification with `sklearn` | Regression and Classification problems |\n",
    "| 6 | Artificial Neural Networks | ANN's and Regression | Regression and Classification II |\n",
    "| 7 | Natural Language Processing | Sklearn and Text | Keras and Text | Final Project |\n",
    "| 8 | Image Analysis | Object Detection and Convolutional Neural Nets | \n",
    "| 9 | Image Generation | Deep Dream | Generating Images | \n",
    "| 10 | HTML and CSS | Basic Website | Website Completion |\n",
    "| 11 | Flask |  Templates | Multiple Pages |\n",
    "| 12 | Forms and API | Forms | Designing your Application |\n",
    "| 13 | Final Meetings | Final Site |\n"
   ]
  },
  {
   "cell_type": "code",
   "execution_count": null,
   "metadata": {},
   "outputs": [],
   "source": []
  }
 ],
 "metadata": {
  "kernelspec": {
   "display_name": "Python 3",
   "language": "python",
   "name": "python3"
  },
  "language_info": {
   "codemirror_mode": {
    "name": "ipython",
    "version": 3
   },
   "file_extension": ".py",
   "mimetype": "text/x-python",
   "name": "python",
   "nbconvert_exporter": "python",
   "pygments_lexer": "ipython3",
   "version": "3.7.4"
  }
 },
 "nbformat": 4,
 "nbformat_minor": 4
}
